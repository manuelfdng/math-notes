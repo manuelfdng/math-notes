{
 "cells": [
  {
   "attachments": {},
   "cell_type": "markdown",
   "metadata": {},
   "source": [
    "# Linear Algebra\n",
    "\n",
    "## Topics\n",
    "- Gauss Elimination\n",
    "- Gauss-Jordan Elimination\n",
    "- Matrix Inverse\n",
    "- Matrix Determinant\n",
    "- Eigenvalues and Eigenvectors"
   ]
  },
  {
   "cell_type": "code",
   "execution_count": 3,
   "metadata": {},
   "outputs": [],
   "source": [
    "def gauss_elimination(A, b):\n",
    "    # Augment the matrix A with the vector b\n",
    "    n = len(A)\n",
    "    Ab = [[A[i][j] for j in range(n)] + [b[i]] for i in range(n)]\n",
    "\n",
    "    # Gaussian elimination\n",
    "    for i in range(n):\n",
    "        # Find the row with the largest absolute value in the ith column\n",
    "        pivot_row = max(range(i, n), key=lambda k: abs(Ab[k][i]))\n",
    "        \n",
    "        # Swap the current row with the pivot row\n",
    "        Ab[i], Ab[pivot_row] = Ab[pivot_row], Ab[i]\n",
    "        \n",
    "        # Eliminate entries below the pivot\n",
    "        for j in range(i+1, n):\n",
    "            ratio = Ab[j][i] / Ab[i][i]\n",
    "            Ab[j] = [Ab[j][k] - ratio * Ab[i][k] for k in range(n+1)]\n",
    "\n",
    "    # Back-substitution to solve for x\n",
    "    x = [0] * n\n",
    "    for i in range(n-1, -1, -1):\n",
    "        x[i] = (Ab[i][-1] - sum(Ab[i][j] * x[j] for j in range(i+1, n))) / Ab[i][i]\n",
    "\n",
    "    return x\n"
   ]
  },
  {
   "cell_type": "code",
   "execution_count": 8,
   "metadata": {},
   "outputs": [
    {
     "data": {
      "text/plain": [
       "[1, -3, 1]"
      ]
     },
     "execution_count": 8,
     "metadata": {},
     "output_type": "execute_result"
    }
   ],
   "source": [
    "[1, -3] + [1]"
   ]
  },
  {
   "cell_type": "code",
   "execution_count": 6,
   "metadata": {},
   "outputs": [
    {
     "name": "stdout",
     "output_type": "stream",
     "text": [
      "[[1, -3, 1], [2, 2, 10]]\n",
      "[4.0, 1.0]\n"
     ]
    }
   ],
   "source": [
    "A = [[1, -3], [2, 2]]\n",
    "b = [1, 10]\n",
    "print(gauss_elimination(A, b))"
   ]
  },
  {
   "cell_type": "code",
   "execution_count": 7,
   "metadata": {},
   "outputs": [
    {
     "name": "stdout",
     "output_type": "stream",
     "text": [
      "[[1, 1, 1, 6], [1, 2, 1, 8], [2, 3, 2, 13]]\n"
     ]
    },
    {
     "ename": "ZeroDivisionError",
     "evalue": "float division by zero",
     "output_type": "error",
     "traceback": [
      "\u001b[1;31m---------------------------------------------------------------------------\u001b[0m",
      "\u001b[1;31mZeroDivisionError\u001b[0m                         Traceback (most recent call last)",
      "\u001b[1;32mc:\\Users\\Manuel Ng\\Desktop\\math-notebooks\\linear-algebra.ipynb Cell 4\u001b[0m in \u001b[0;36m<cell line: 7>\u001b[1;34m()\u001b[0m\n\u001b[0;32m      <a href='vscode-notebook-cell:/c%3A/Users/Manuel%20Ng/Desktop/math-notebooks/linear-algebra.ipynb#X13sZmlsZQ%3D%3D?line=0'>1</a>\u001b[0m A \u001b[39m=\u001b[39m [[\u001b[39m1\u001b[39m, \u001b[39m1\u001b[39m, \u001b[39m1\u001b[39m],\n\u001b[0;32m      <a href='vscode-notebook-cell:/c%3A/Users/Manuel%20Ng/Desktop/math-notebooks/linear-algebra.ipynb#X13sZmlsZQ%3D%3D?line=1'>2</a>\u001b[0m      [\u001b[39m1\u001b[39m, \u001b[39m2\u001b[39m, \u001b[39m1\u001b[39m],\n\u001b[0;32m      <a href='vscode-notebook-cell:/c%3A/Users/Manuel%20Ng/Desktop/math-notebooks/linear-algebra.ipynb#X13sZmlsZQ%3D%3D?line=2'>3</a>\u001b[0m      [\u001b[39m2\u001b[39m, \u001b[39m3\u001b[39m, \u001b[39m2\u001b[39m]]\n\u001b[0;32m      <a href='vscode-notebook-cell:/c%3A/Users/Manuel%20Ng/Desktop/math-notebooks/linear-algebra.ipynb#X13sZmlsZQ%3D%3D?line=4'>5</a>\u001b[0m b \u001b[39m=\u001b[39m [\u001b[39m6\u001b[39m, \u001b[39m8\u001b[39m, \u001b[39m13\u001b[39m]\n\u001b[1;32m----> <a href='vscode-notebook-cell:/c%3A/Users/Manuel%20Ng/Desktop/math-notebooks/linear-algebra.ipynb#X13sZmlsZQ%3D%3D?line=6'>7</a>\u001b[0m \u001b[39mprint\u001b[39m(gauss_elimination(A, b))\n",
      "\u001b[1;32mc:\\Users\\Manuel Ng\\Desktop\\math-notebooks\\linear-algebra.ipynb Cell 4\u001b[0m in \u001b[0;36mgauss_elimination\u001b[1;34m(A, b)\u001b[0m\n\u001b[0;32m     <a href='vscode-notebook-cell:/c%3A/Users/Manuel%20Ng/Desktop/math-notebooks/linear-algebra.ipynb#X13sZmlsZQ%3D%3D?line=19'>20</a>\u001b[0m x \u001b[39m=\u001b[39m [\u001b[39m0\u001b[39m] \u001b[39m*\u001b[39m n\n\u001b[0;32m     <a href='vscode-notebook-cell:/c%3A/Users/Manuel%20Ng/Desktop/math-notebooks/linear-algebra.ipynb#X13sZmlsZQ%3D%3D?line=20'>21</a>\u001b[0m \u001b[39mfor\u001b[39;00m i \u001b[39min\u001b[39;00m \u001b[39mrange\u001b[39m(n\u001b[39m-\u001b[39m\u001b[39m1\u001b[39m, \u001b[39m-\u001b[39m\u001b[39m1\u001b[39m, \u001b[39m-\u001b[39m\u001b[39m1\u001b[39m):\n\u001b[1;32m---> <a href='vscode-notebook-cell:/c%3A/Users/Manuel%20Ng/Desktop/math-notebooks/linear-algebra.ipynb#X13sZmlsZQ%3D%3D?line=21'>22</a>\u001b[0m     x[i] \u001b[39m=\u001b[39m (Ab[i][\u001b[39m-\u001b[39;49m\u001b[39m1\u001b[39;49m] \u001b[39m-\u001b[39;49m \u001b[39msum\u001b[39;49m(Ab[i][j] \u001b[39m*\u001b[39;49m x[j] \u001b[39mfor\u001b[39;49;00m j \u001b[39min\u001b[39;49;00m \u001b[39mrange\u001b[39;49m(i\u001b[39m+\u001b[39;49m\u001b[39m1\u001b[39;49m, n))) \u001b[39m/\u001b[39;49m Ab[i][i]\n\u001b[0;32m     <a href='vscode-notebook-cell:/c%3A/Users/Manuel%20Ng/Desktop/math-notebooks/linear-algebra.ipynb#X13sZmlsZQ%3D%3D?line=23'>24</a>\u001b[0m \u001b[39mreturn\u001b[39;00m x\n",
      "\u001b[1;31mZeroDivisionError\u001b[0m: float division by zero"
     ]
    }
   ],
   "source": [
    "A = [[1, 1, 1],\n",
    "     [1, 2, 1],\n",
    "     [2, 3, 2]]\n",
    "\n",
    "b = [6, 8, 13]\n",
    "\n",
    "print(gauss_elimination(A, b))"
   ]
  },
  {
   "cell_type": "code",
   "execution_count": null,
   "metadata": {},
   "outputs": [],
   "source": [
    "def gauss_jordan_elimination(A, b):\n",
    "    # Augment the matrix A with the vector b\n",
    "    n = len(A)\n",
    "    Ab = [[A[i][j] for j in range(n)] + [b[i]] for i in range(n)]\n",
    "\n",
    "    # Perform Gaussian elimination\n",
    "    for i in range(n):\n",
    "        # Find the row with the largest absolute value in the ith column\n",
    "        pivot_row = max(range(i, n), key=lambda k: abs(Ab[k][i]))\n",
    "\n",
    "        # Swap the current row with the pivot row\n",
    "        Ab[i], Ab[pivot_row] = Ab[pivot_row], Ab[i]\n",
    "\n",
    "        # Normalize the pivot row\n",
    "        pivot = Ab[i][i]\n",
    "        Ab[i] = [Ab[i][j] / pivot for j in range(n+1)]\n",
    "\n",
    "        # Eliminate entries above and below the pivot\n",
    "        for j in range(n):\n",
    "            if j != i:\n",
    "                ratio = Ab[j][i]\n",
    "                Ab[j] = [Ab[j][k] - ratio * Ab[i][k] for k in range(n+1)]\n",
    "\n",
    "    # Extract the solution vector\n",
    "    x = [Ab[i][-1] for i in range(n)]\n",
    "    \n",
    "    return x"
   ]
  },
  {
   "cell_type": "code",
   "execution_count": null,
   "metadata": {},
   "outputs": [],
   "source": [
    "def matrix_inverse(A):\n",
    "    # Augment A with the identity matrix\n",
    "    n = len(A)\n",
    "    I = [[1 if i == j else 0 for j in range(n)] for i in range(n)]\n",
    "    Ab = [A[i] + I[i] for i in range(n)]\n",
    "\n",
    "    # Perform Gauss-Jordan elimination\n",
    "    for i in range(n):\n",
    "        # Find the row with the largest absolute value in the ith column\n",
    "        pivot_row = max(range(i, n), key=lambda k: abs(Ab[k][i]))\n",
    "\n",
    "        # Swap the current row with the pivot row\n",
    "        Ab[i], Ab[pivot_row] = Ab[pivot_row], Ab[i]\n",
    "\n",
    "        # Normalize the pivot row\n",
    "        pivot = Ab[i][i]\n",
    "        Ab[i] = [Ab[i][j] / pivot for j in range(2*n)]\n",
    "\n",
    "        # Eliminate entries above and below the pivot\n",
    "        for j in range(n):\n",
    "            if j != i:\n",
    "                ratio = Ab[j][i]\n",
    "                Ab[j] = [Ab[j][k] - ratio * Ab[i][k] for k in range(2*n)]\n",
    "\n",
    "    # Extract the inverse matrix\n",
    "    A_inv = [[Ab[i][j+n] for j in range(n)] for i in range(n)]\n",
    "\n",
    "    return A_inv\n"
   ]
  },
  {
   "cell_type": "code",
   "execution_count": null,
   "metadata": {},
   "outputs": [],
   "source": [
    "def matrix_det(A):\n",
    "    # Handle 2x2 and 1x1 matrices directly\n",
    "    n = len(A)\n",
    "    if n == 2:\n",
    "        return A[0][0] * A[1][1] - A[0][1] * A[1][0]\n",
    "    elif n == 1:\n",
    "        return A[0][0]\n",
    "\n",
    "    # Compute the determinant using recursive cofactor expansion\n",
    "    det = 0\n",
    "    for j in range(n):\n",
    "        # Compute the cofactor of A[0][j]\n",
    "        cofactor = (-1) ** (0 + j) * matrix_det(minor(A, 0, j))\n",
    "\n",
    "        # Add the cofactor to the determinant\n",
    "        det += A[0][j] * cofactor\n",
    "\n",
    "    return det\n",
    "\n",
    "def minor(A, i, j):\n",
    "    # Compute the (i, j) minor of matrix A\n",
    "    return [row[:j] + row[j+1:] for row in (A[:i] + A[i+1:])]\n"
   ]
  },
  {
   "cell_type": "code",
   "execution_count": null,
   "metadata": {},
   "outputs": [],
   "source": [
    "import random\n",
    "\n",
    "def dot_product(x, y):\n",
    "    # Compute the dot product of two vectors x and y\n",
    "    return sum([x[i] * y[i] for i in range(len(x))])\n",
    "\n",
    "def power_iteration(A, num_iterations):\n",
    "    # Choose a random initial eigenvector\n",
    "    n = len(A)\n",
    "    x = [random.uniform(-1, 1) for i in range(n)]\n",
    "    x_norm = dot_product(x, x)**0.5\n",
    "    x = [x[i] / x_norm for i in range(n)]\n",
    "\n",
    "    # Perform power iteration\n",
    "    for i in range(num_iterations):\n",
    "        Ax = [0] * n\n",
    "        for j in range(n):\n",
    "            for k in range(n):\n",
    "                Ax[j] += A[j][k] * x[k]\n",
    "        x = Ax\n",
    "        x_norm = dot_product(x, x)**0.5\n",
    "        x = [x[i] / x_norm for i in range(n)]\n",
    "\n",
    "    # Compute the corresponding eigenvalue\n",
    "    eigenvalue = dot_product(x, [A[i][j] * x[j] for i in range(n) for j in range(n)])\n",
    "\n",
    "    return eigenvalue, x\n",
    "\n",
    "def matrix_eig(A, num_iterations=100):\n",
    "    # Find the dominant eigenvalue and eigenvector of matrix A using power iteration\n",
    "    eigenvalue, eigenvector = power_iteration(A, num_iterations)\n",
    "\n",
    "    return eigenvalue, eigenvector\n"
   ]
  },
  {
   "cell_type": "code",
   "execution_count": null,
   "metadata": {},
   "outputs": [],
   "source": []
  }
 ],
 "metadata": {
  "kernelspec": {
   "display_name": "Python 3",
   "language": "python",
   "name": "python3"
  },
  "language_info": {
   "codemirror_mode": {
    "name": "ipython",
    "version": 3
   },
   "file_extension": ".py",
   "mimetype": "text/x-python",
   "name": "python",
   "nbconvert_exporter": "python",
   "pygments_lexer": "ipython3",
   "version": "3.10.2"
  },
  "orig_nbformat": 4
 },
 "nbformat": 4,
 "nbformat_minor": 2
}

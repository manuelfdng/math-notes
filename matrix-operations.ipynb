{
 "cells": [
  {
   "attachments": {},
   "cell_type": "markdown",
   "metadata": {},
   "source": [
    "# Matrix Operations\n",
    "\n",
    "## Operations\n",
    "- Addition\n",
    "- Subtraction\n",
    "- Multiplication\n",
    "- Scalar Multiplication\n",
    "\n",
    "## Projections\n",
    "- Matrix Projection\n",
    "- Matrix Orthogonal Projection\n",
    "\n",
    "## Distances\n",
    "- Euclidean Distance\n",
    "- Manhattan Distance"
   ]
  },
  {
   "cell_type": "code",
   "execution_count": null,
   "metadata": {},
   "outputs": [],
   "source": [
    "def matrix_addition(A, B):\n",
    "    # Check that matrices have same dimensions\n",
    "    if len(A) != len(B) or len(A[0]) != len(B[0]):\n",
    "        raise ValueError(\"Matrices must have the same dimensions\")\n",
    "\n",
    "    # Add corresponding elements of matrices\n",
    "    result = []\n",
    "    for i in range(len(A)):\n",
    "        row = []\n",
    "        for j in range(len(A[0])):\n",
    "            row.append(A[i][j] + B[i][j])\n",
    "        result.append(row)\n",
    "\n",
    "    return result\n"
   ]
  },
  {
   "cell_type": "code",
   "execution_count": null,
   "metadata": {},
   "outputs": [],
   "source": [
    "def matrix_subtraction(A, B):\n",
    "    # Check that matrices have same dimensions\n",
    "    if len(A) != len(B) or len(A[0]) != len(B[0]):\n",
    "        raise ValueError(\"Matrices must have the same dimensions\")\n",
    "\n",
    "    # Subtract corresponding elements of matrices\n",
    "    result = []\n",
    "    for i in range(len(A)):\n",
    "        row = []\n",
    "        for j in range(len(A[0])):\n",
    "            row.append(A[i][j] - B[i][j])\n",
    "        result.append(row)\n",
    "\n",
    "    return result\n"
   ]
  },
  {
   "cell_type": "code",
   "execution_count": null,
   "metadata": {},
   "outputs": [],
   "source": [
    "def matrix_multiplication(A, B):\n",
    "    # Check that matrices are compatible for multiplication\n",
    "    if len(A[0]) != len(B):\n",
    "        raise ValueError(\"Matrices are not compatible for multiplication\")\n",
    "\n",
    "    # Multiply matrices using dot product of rows and columns\n",
    "    result = []\n",
    "    for i in range(len(A)):\n",
    "        row = []\n",
    "        for j in range(len(B[0])):\n",
    "            column = [B[k][j] for k in range(len(B))]\n",
    "            product = sum([A[i][k] * column[k] for k in range(len(A[0]))])\n",
    "            row.append(product)\n",
    "        result.append(row)\n",
    "\n",
    "    return result\n"
   ]
  },
  {
   "cell_type": "code",
   "execution_count": null,
   "metadata": {},
   "outputs": [],
   "source": [
    "def scalar_multiplication(c, A):\n",
    "    # Multiply each element of matrix by scalar c\n",
    "    result = []\n",
    "    for i in range(len(A)):\n",
    "        row = []\n",
    "        for j in range(len(A[0])):\n",
    "            row.append(c * A[i][j])\n",
    "        result.append(row)\n",
    "\n",
    "    return result\n"
   ]
  },
  {
   "cell_type": "code",
   "execution_count": null,
   "metadata": {},
   "outputs": [],
   "source": [
    "def matrix_projection(u, A):\n",
    "    # Compute the projection of A onto u\n",
    "    ut = [u[i][0] for i in range(len(u))]   # Convert u to a column vector\n",
    "    numerator = matrix_multiplication(ut, A)\n",
    "    denominator = matrix_multiplication(ut, ut)\n",
    "    projection = matrix_multiplication(numerator, scalar_multiplication(1/denominator[0][0], ut))\n",
    "\n",
    "    return projection\n"
   ]
  },
  {
   "cell_type": "code",
   "execution_count": null,
   "metadata": {},
   "outputs": [],
   "source": [
    "def matrix_orthogonal_projection(u, A):\n",
    "    # Compute the orthogonal projection of A onto the complement of the space spanned by u\n",
    "    projection = matrix_projection(u, A)\n",
    "    orthogonal_projection = matrix_subtraction(A, projection)\n",
    "\n",
    "    return orthogonal_projection\n"
   ]
  },
  {
   "cell_type": "code",
   "execution_count": null,
   "metadata": {},
   "outputs": [],
   "source": [
    "def euclidean_distance(u, v):\n",
    "    # Compute the Euclidean distance between u and v\n",
    "    if len(u) != len(v):\n",
    "        raise ValueError(\"Vectors must have the same length\")\n",
    "\n",
    "    distance = 0\n",
    "    for i in range(len(u)):\n",
    "        distance += (u[i] - v[i])**2\n",
    "    distance = distance**(1/2)\n",
    "\n",
    "    return distance\n"
   ]
  },
  {
   "cell_type": "code",
   "execution_count": null,
   "metadata": {},
   "outputs": [],
   "source": [
    "def manhattan_distance(u, v):\n",
    "    # Compute the Manhattan distance between u and v\n",
    "    if len(u) != len(v):\n",
    "        raise ValueError(\"Vectors must have the same length\")\n",
    "\n",
    "    distance = 0\n",
    "    for i in range(len(u)):\n",
    "        distance += abs(u[i] - v[i])\n",
    "\n",
    "    return distance\n"
   ]
  },
  {
   "cell_type": "code",
   "execution_count": null,
   "metadata": {},
   "outputs": [],
   "source": []
  },
  {
   "cell_type": "code",
   "execution_count": null,
   "metadata": {},
   "outputs": [],
   "source": []
  }
 ],
 "metadata": {
  "language_info": {
   "name": "python"
  },
  "orig_nbformat": 4
 },
 "nbformat": 4,
 "nbformat_minor": 2
}
